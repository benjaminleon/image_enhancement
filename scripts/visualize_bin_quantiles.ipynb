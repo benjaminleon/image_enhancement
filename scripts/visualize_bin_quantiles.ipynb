{
 "cells": [
  {
   "cell_type": "code",
   "execution_count": 4,
   "metadata": {
    "collapsed": false
   },
   "outputs": [],
   "source": [
    "# This function is used to plot the mapping of colors to their respective color bins \n",
    "\n",
    "import numpy as np\n",
    "from scipy.special import erfinv, erf\n",
    "from matplotlib import pyplot as plt\n",
    "\n",
    "num_of_bins = 32\n",
    "sigma = 25.0#/128\n",
    "\n",
    "# Make sure colors are mapped to [-1, 1]\n",
    "x = np.linspace(-128,128, num= 10000)\n",
    "\n",
    "y = np.exp(-(x**2)/(2*sigma**2))/np.sqrt(2*sigma**2*np.pi) # Bell curve\n",
    "\n",
    "# Integral from 0 o x, that's why half is negative\n",
    "e = erf(x/(np.sqrt(2)*sigma)) / 2 # According to wolframalpha:\n",
    "# \"int of (1/sqrt(2*pi)/sigma)*e^(-(x^2)/(2*sigma^2)) from 0 to a\" Integral of bell curve\n",
    "\n",
    "# Raise the integral by 0.5 to [0, 1], then scale it to num_of_bins\n",
    "bins = np.floor((e + 0.5)*(num_of_bins-0.001))\n",
    "\n",
    "# To plot the bins on the bell curve\n",
    "idx = [np.argmax(bins > i) for i in range(num_of_bins - 1)]\n",
    "z = y[idx]\n",
    "\n",
    "plt.subplot(221)\n",
    "plt.title('Gaussian and integral')\n",
    "plt.plot(x,e,'g')\n",
    "plt.plot(x,y,'b')\n",
    "\n",
    "plt.subplot(222)\n",
    "plt.title('Adjusting scale')\n",
    "plt.plot(x, (e + 0.5)*(num_of_bins-0.001), 'g')\n",
    "plt.plot(x,y, 'b')\n",
    "\n",
    "plt.subplot(223)\n",
    "plt.title('Histogram mapping')\n",
    "plt.plot(x, bins, 'g')\n",
    "plt.plot(x,y, 'b')\n",
    "\n",
    "plt.subplot(224)\n",
    "plt.title('Division of bins')\n",
    "plt.plot(x,y,'b')\n",
    "plt.stem(x[idx], z, markerfmt=' ')\n",
    "#plt.stem(x[idx], np.zeros_like(idx)) # Dots at bin edges\n",
    "plt.show()\n"
   ]
  },
  {
   "cell_type": "code",
   "execution_count": 5,
   "metadata": {
    "collapsed": false
   },
   "outputs": [
    {
     "name": "stdout",
     "output_type": "stream",
     "text": [
      "-15756.8567316 16011.8567316\n"
     ]
    }
   ],
   "source": [
    "# Plot the mapping from bins to colors\n",
    "chosen_bin = np.linspace(0.00001, num_of_bins - 0.00001, 10000)\n",
    "\n",
    "# Adjust to the values the integral produces, i.e. range [-0.5, 0.5]\n",
    "# visualize_bin_quantiles.ipynb demonstrates the mapping from color to bin\n",
    "integral = chosen_bin / num_of_bins - 0.5\n",
    "\n",
    "# Get the color on range [-1, 1]\n",
    "color = erfinv(2 * integral) * np.sqrt(2) * sigma\n",
    "\n",
    "# Map to from [-1, 1] to [0, 255]\n",
    "color = (color + 1) * 255 / 2\n",
    "\n",
    "print color.min(), color.max()\n",
    "\n",
    "plt.plot(chosen_bin, color)\n",
    "plt.show()\n"
   ]
  },
  {
   "cell_type": "code",
   "execution_count": 25,
   "metadata": {
    "collapsed": false
   },
   "outputs": [
    {
     "name": "stdout",
     "output_type": "stream",
     "text": [
      "5.47255251741\n"
     ]
    }
   ],
   "source": [
    "print erfinv(0.99999999999999)"
   ]
  },
  {
   "cell_type": "code",
   "execution_count": 5,
   "metadata": {
    "collapsed": false
   },
   "outputs": [
    {
     "name": "stdout",
     "output_type": "stream",
     "text": [
      "0.1953125\n"
     ]
    }
   ],
   "source": [
    "print 25.0/128"
   ]
  },
  {
   "cell_type": "code",
   "execution_count": null,
   "metadata": {
    "collapsed": true
   },
   "outputs": [],
   "source": []
  }
 ],
 "metadata": {
  "kernelspec": {
   "display_name": "Python [Root]",
   "language": "python",
   "name": "Python [Root]"
  },
  "language_info": {
   "codemirror_mode": {
    "name": "ipython",
    "version": 2
   },
   "file_extension": ".py",
   "mimetype": "text/x-python",
   "name": "python",
   "nbconvert_exporter": "python",
   "pygments_lexer": "ipython2",
   "version": "2.7.12"
  }
 },
 "nbformat": 4,
 "nbformat_minor": 0
}
